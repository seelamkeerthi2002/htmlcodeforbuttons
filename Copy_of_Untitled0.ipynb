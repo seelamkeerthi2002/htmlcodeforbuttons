{
  "nbformat": 4,
  "nbformat_minor": 0,
  "metadata": {
    "colab": {
      "provenance": [],
      "authorship_tag": "ABX9TyNCyCM0g9LkThwGg4dXrszp",
      "include_colab_link": true
    },
    "kernelspec": {
      "name": "python3",
      "display_name": "Python 3"
    },
    "language_info": {
      "name": "python"
    }
  },
  "cells": [
    {
      "cell_type": "markdown",
      "metadata": {
        "id": "view-in-github",
        "colab_type": "text"
      },
      "source": [
        "<a href=\"https://colab.research.google.com/github/seelamkeerthi2002/htmlcodeforbuttons/blob/main/Copy_of_Untitled0.ipynb\" target=\"_parent\"><img src=\"https://colab.research.google.com/assets/colab-badge.svg\" alt=\"Open In Colab\"/></a>"
      ]
    },
    {
      "cell_type": "code",
      "execution_count": null,
      "metadata": {
        "colab": {
          "base_uri": "https://localhost:8080/"
        },
        "id": "U2UK90bWQ-4g",
        "outputId": "7a6b0438-b09a-4c52-c3d8-f3452e0b0b08"
      },
      "outputs": [
        {
          "output_type": "stream",
          "name": "stdout",
          "text": [
            "13\n"
          ]
        }
      ],
      "source": [
        "a=6+7\n",
        "print(a)\n"
      ]
    },
    {
      "cell_type": "markdown",
      "source": [
        "# New Section"
      ],
      "metadata": {
        "id": "FmBipx8IRSGZ"
      }
    },
    {
      "cell_type": "markdown",
      "source": [
        "hello\n"
      ],
      "metadata": {
        "id": "HXCtx72ZRTSN"
      }
    },
    {
      "cell_type": "code",
      "source": [],
      "metadata": {
        "id": "9K7A8tyJRVyS"
      },
      "execution_count": null,
      "outputs": []
    }
  ]
}